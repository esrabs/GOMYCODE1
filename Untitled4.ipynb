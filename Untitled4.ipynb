{
  "nbformat": 4,
  "nbformat_minor": 0,
  "metadata": {
    "colab": {
      "provenance": [],
      "authorship_tag": "ABX9TyPIG6y1AHnYsU9z9DcoB6dT",
      "include_colab_link": true
    },
    "kernelspec": {
      "name": "python3",
      "display_name": "Python 3"
    },
    "language_info": {
      "name": "python"
    }
  },
  "cells": [
    {
      "cell_type": "markdown",
      "metadata": {
        "id": "view-in-github",
        "colab_type": "text"
      },
      "source": [
        "<a href=\"https://colab.research.google.com/github/esrabs/GOMYCODE1/blob/main/Untitled4.ipynb\" target=\"_parent\"><img src=\"https://colab.research.google.com/assets/colab-badge.svg\" alt=\"Open In Colab\"/></a>"
      ]
    },
    {
      "cell_type": "code",
      "source": [
        "class Point3D:\n",
        "    def __init__(self, x, y, z):\n",
        "        self.x = x\n",
        "        self.y = y\n",
        "        self.z = z\n",
        "\n",
        "    def coordinates(self):\n",
        "        return (self.x, self.y, self.z)\n",
        "my_point = Point3D(1, 2, 3)\n",
        "print(my_point.coordinates())"
      ],
      "metadata": {
        "colab": {
          "base_uri": "https://localhost:8080/"
        },
        "id": "lLOfK_3fPKSj",
        "outputId": "a1fc9b5f-495e-40d4-fe73-7a89ca3a71b2"
      },
      "execution_count": null,
      "outputs": [
        {
          "output_type": "stream",
          "name": "stdout",
          "text": [
            "(1, 2, 3)\n"
          ]
        }
      ]
    },
    {
      "cell_type": "code",
      "source": [
        "class Rectangle:\n",
        "    def __init__(self,length,width):\n",
        "       self.length=length\n",
        "       self.width=width\n",
        "    def  area(self):\n",
        "      return((self.length+self.width)*2)\n",
        "\n",
        "    def perimeter(self):\n",
        "      return((self.length*self.width))\n",
        "\n",
        "my_rectangle=Rectangle(4,3)\n",
        "print(my_rectangle.area())\n",
        "print(my_rectangle.perimeter())\n"
      ],
      "metadata": {
        "colab": {
          "base_uri": "https://localhost:8080/"
        },
        "id": "44Vmd-jxP1sw",
        "outputId": "98c246c4-0fbb-47ef-889d-feabc78c0ac4"
      },
      "execution_count": null,
      "outputs": [
        {
          "output_type": "stream",
          "name": "stdout",
          "text": [
            "14\n",
            "12\n"
          ]
        }
      ]
    },
    {
      "cell_type": "code",
      "source": [
        "import math\n",
        "class circle:\n",
        "  def __init__(self,centerX,centerY,radius):\n",
        "    self.centerX=x\n",
        "    self.centerY=y\n",
        "    self.radius=R\n",
        "\n",
        "def area(self):\n",
        "  return(math.pi*radius**2)\n",
        "\n",
        "def perimeter(self):\n",
        "  return(2*math.pi*radius)\n",
        "\n",
        "def inside(self,pointx,pointy):\n",
        "     d=math.sqrt((pointx - self.x) ** 2 + (pointy - self.y) ** 2)\n",
        "     return d== self.radius\n",
        "\n",
        "\n",
        "centerx = int(input(\"choose the center's x :\"))\n",
        "centery = int(input(\"choose the center's y :\"))\n",
        "\n",
        "\n",
        "radius = int(input(\"Enter the radius of the circle: \"))\n",
        "\n",
        "circle = Circle((centerx, centery), radius)\n",
        "\n",
        "\n",
        "\n",
        "\n",
        "\n",
        "pointx = int(input(\"choose the point's x :\"))\n",
        "pointy = int(input(\"choose the point's y :\"))\n",
        "\n",
        "\n",
        "\n",
        "print(\"the area of the circle is\",circle.area())\n",
        "print(\"the perimeter of the circle is\",circle.perimeter())\n",
        "\n",
        "\n",
        "\n",
        "if circle.inside(pointx, pointy):\n",
        "    print(\"the point is inside the circle\")\n",
        "else:\n",
        "    print(\"the point is not inside the circle\")\n",
        "\n",
        "\n",
        "\n",
        "\n",
        "\n",
        "\n",
        "\n",
        "\n",
        "\n"
      ],
      "metadata": {
        "id": "U2kACjMbad4D",
        "colab": {
          "base_uri": "https://localhost:8080/"
        },
        "outputId": "43fc5e5e-fadf-4538-a2c6-efe3dcde719d"
      },
      "execution_count": 38,
      "outputs": [
        {
          "output_type": "stream",
          "name": "stdout",
          "text": [
            "choose the center's x :5\n",
            "choose the center's y :8\n",
            "Enter the radius of the circle: 5\n",
            "choose the point's x :5\n",
            "choose the point's y :6\n",
            "the area of the circle is 78.53981633974483\n",
            "the perimeter of the circle is 31.41592653589793\n",
            "the point is not inside the circle\n"
          ]
        }
      ]
    },
    {
      "cell_type": "code",
      "source": [
        "class Bank:\n",
        "    def __init__(self, balance=0):\n",
        "        self.balance = balance\n",
        "\n",
        "    def deposit(self, amount):\n",
        "        self.balance += amount\n",
        "        return self.balance\n",
        "\n",
        "    def withdraw(self, amount):\n",
        "        if amount <= self.balance:\n",
        "            self.balance -= amount\n",
        "            return self.balance\n",
        "        else:\n",
        "            print(\"Insufficient funds. Cannot withdraw\", amount)\n",
        "            return self.balance"
      ],
      "metadata": {
        "id": "V1JrA1dOj9Rq"
      },
      "execution_count": 40,
      "outputs": []
    }
  ]
}