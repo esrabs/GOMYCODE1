{
  "nbformat": 4,
  "nbformat_minor": 0,
  "metadata": {
    "colab": {
      "provenance": [],
      "authorship_tag": "ABX9TyMoI5jWWIAtysaJLvDu/ekE",
      "include_colab_link": true
    },
    "kernelspec": {
      "name": "python3",
      "display_name": "Python 3"
    },
    "language_info": {
      "name": "python"
    }
  },
  "cells": [
    {
      "cell_type": "markdown",
      "metadata": {
        "id": "view-in-github",
        "colab_type": "text"
      },
      "source": [
        "<a href=\"https://colab.research.google.com/github/esrabs/GOMYCODE1/blob/main/Untitled2.ipynb\" target=\"_parent\"><img src=\"https://colab.research.google.com/assets/colab-badge.svg\" alt=\"Open In Colab\"/></a>"
      ]
    },
    {
      "cell_type": "code",
      "execution_count": null,
      "metadata": {
        "colab": {
          "base_uri": "https://localhost:8080/"
        },
        "id": "mt-y8TkfdPaO",
        "outputId": "6609d10c-5c86-4ce4-ef1d-8a4de9f64768"
      },
      "outputs": [
        {
          "output_type": "stream",
          "name": "stdout",
          "text": [
            "result : 36\n"
          ]
        }
      ],
      "source": [
        "list=[2,3,6]\n",
        "x=1\n",
        "for i in list:\n",
        " x=i *x\n",
        "\n",
        "print('result :', x)"
      ]
    },
    {
      "cell_type": "code",
      "source": [
        "list=[(2, 5), (1, 2), (4, 4), (2, 3), (2, 1)]\n",
        "for i in range (len(list)):\n",
        "    for j in range(len(list)-1-i):\n",
        "        if list[j][-1] > list[j+1][-1]:\n",
        "           list[j], list[j+1] = list[j+1], list[j]\n",
        "\n",
        "print(\"Sorted List:\", list)"
      ],
      "metadata": {
        "colab": {
          "base_uri": "https://localhost:8080/"
        },
        "id": "Cji4Z_IAifLB",
        "outputId": "3491a13f-069a-4c79-d64d-6644f40dc6d3"
      },
      "execution_count": null,
      "outputs": [
        {
          "output_type": "stream",
          "name": "stdout",
          "text": [
            "Sorted List: [(2, 1), (1, 2), (2, 3), (4, 4), (2, 5)]\n"
          ]
        }
      ]
    },
    {
      "cell_type": "code",
      "source": [
        "d1 = {'a': 100, 'b': 200, 'c': 300}\n",
        "d2 = {'a': 300, 'b': 200, 'd': 400}\n",
        "\n",
        "d3= {}\n",
        "\n",
        "for key, value in d1.items():\n",
        "    d3[key] = value\n",
        "\n",
        "for key, value in d2.items():\n",
        "    if key in d3:\n",
        "        d3[key] += value\n",
        "    else:\n",
        "        d3[key] = value\n",
        "\n",
        "print(\"Combined Dictionary:\", d3)"
      ],
      "metadata": {
        "id": "Q8ZGqxReluBD",
        "colab": {
          "base_uri": "https://localhost:8080/"
        },
        "outputId": "65154256-7f30-49cc-c94c-e2209554cf1d"
      },
      "execution_count": 7,
      "outputs": [
        {
          "output_type": "stream",
          "name": "stdout",
          "text": [
            "Combined Dictionary: {'a': 400, 'b': 400, 'c': 300, 'd': 400}\n"
          ]
        }
      ]
    },
    {
      "cell_type": "code",
      "source": [
        "n = int(input(\"Enter an integral number: \"))\n",
        "d = {}\n",
        "\n",
        "# Generate (i, i*i) pairs and add them to the dictionary\n",
        "for i in range(1, n+1):\n",
        "    d[i] = i*i\n",
        "\n",
        "print(\"Dictionary:\", d)"
      ],
      "metadata": {
        "colab": {
          "base_uri": "https://localhost:8080/"
        },
        "id": "7ReOq7Usm4tK",
        "outputId": "1e2aa834-ce69-4fb9-b820-3ebee767ce01"
      },
      "execution_count": 9,
      "outputs": [
        {
          "output_type": "stream",
          "name": "stdout",
          "text": [
            "Enter an integral number: 8\n",
            "Dictionary: {1: 1, 2: 4, 3: 9, 4: 16, 5: 25, 6: 36, 7: 49, 8: 64}\n"
          ]
        }
      ]
    },
    {
      "cell_type": "code",
      "source": [
        "list = [('item1', '12.20'), ('item2', '15.10'), ('item3', '24.5')]\n",
        "\n",
        "for i in range(len(list)):\n",
        "    for j in range(0,len(list) - 1):\n",
        "        if float(list[j][1]) < float(list[j + 1][1]):\n",
        "            list[j], list[j + 1] = list[j + 1],list[j]\n",
        "\n",
        "print(\"Sorted List:\",list)"
      ],
      "metadata": {
        "colab": {
          "base_uri": "https://localhost:8080/"
        },
        "id": "jn8TbiNinzD5",
        "outputId": "0f51274c-2ce6-43f4-a417-7d4d5b47a1dc"
      },
      "execution_count": 10,
      "outputs": [
        {
          "output_type": "stream",
          "name": "stdout",
          "text": [
            "Sorted List: [('item3', '24.5'), ('item2', '15.10'), ('item1', '12.20')]\n"
          ]
        }
      ]
    }
  ]
}