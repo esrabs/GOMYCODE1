{
  "nbformat": 4,
  "nbformat_minor": 0,
  "metadata": {
    "colab": {
      "provenance": [],
      "authorship_tag": "ABX9TyNP3azqBsmjnXK7+AvulEU2",
      "include_colab_link": true
    },
    "kernelspec": {
      "name": "python3",
      "display_name": "Python 3"
    },
    "language_info": {
      "name": "python"
    }
  },
  "cells": [
    {
      "cell_type": "markdown",
      "metadata": {
        "id": "view-in-github",
        "colab_type": "text"
      },
      "source": [
        "<a href=\"https://colab.research.google.com/github/esrabs/GOMYCODE1/blob/main/Untitled16.ipynb\" target=\"_parent\"><img src=\"https://colab.research.google.com/assets/colab-badge.svg\" alt=\"Open In Colab\"/></a>"
      ]
    },
    {
      "cell_type": "code",
      "execution_count": null,
      "metadata": {
        "id": "JtO1rTVp1JnA"
      },
      "outputs": [],
      "source": [
        "def checker(digit):\n",
        "    global mark, count, digits\n",
        "\n",
        "    if digit == 1 and digit in digits:\n",
        "        digits.remove(digit)\n",
        "        mark = 'X' if count % 2 == 0 else 'O'\n",
        "        button1.config(text=mark)\n",
        "        count += 1\n",
        "\n",
        "        if win(mark):\n",
        "            messagebox.showinfo(\"TIC-TAC-TOE\", f\"Player1 wins\" if mark == 'X' else f\"Player2 wins\")\n",
        "            root.destroy()\n",
        "\n",
        "    elif digit == 2 and digit in digits:\n",
        "        digits.remove(digit)\n",
        "        mark = 'X' if count % 2 == 0 else 'O'\n",
        "        button2.config(text=mark)\n",
        "        count += 1\n",
        "\n",
        "        if win(mark):\n",
        "            messagebox.showinfo(\"TIC-TAC-TOE\", f\"Player1 wins\" if mark == 'X' else f\"Player2 wins\")\n",
        "            root.destroy()\n",
        "\n",
        "\n",
        "\n",
        "    if count > 8 and not win('X') and not win('O'):\n",
        "        messagebox.showinfo(\"TIC-TAC-TOE\", \"Match Tied\")\n",
        "        root.destroy()\n",
        "\n",
        "def win(player):\n",
        "\n",
        "    pass\n",
        "\n",
        "\n",
        "button1 = tk.Button(root, text=\"\", font=(\"Helvetica\", 20), width=5, height=2, command=lambda: checker(1))\n",
        "button2 = tk.Button(root, text=\"\", font=(\"Helvetica\", 20), width=5, height=2, command=lambda: checker(2))\n",
        "\n",
        "button1.grid(row=0, column=0)\n",
        "button2.grid(row=0, column=1)\n",
        "\n",
        "root.mainloop()"
      ]
    }
  ]
}