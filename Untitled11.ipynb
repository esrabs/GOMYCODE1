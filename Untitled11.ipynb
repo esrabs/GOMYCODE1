{
  "nbformat": 4,
  "nbformat_minor": 0,
  "metadata": {
    "colab": {
      "provenance": [],
      "authorship_tag": "ABX9TyNXkZ4Yi4XFvTJBwFcenYEk",
      "include_colab_link": true
    },
    "kernelspec": {
      "name": "python3",
      "display_name": "Python 3"
    },
    "language_info": {
      "name": "python"
    }
  },
  "cells": [
    {
      "cell_type": "markdown",
      "metadata": {
        "id": "view-in-github",
        "colab_type": "text"
      },
      "source": [
        "<a href=\"https://colab.research.google.com/github/esrabs/GOMYCODE1/blob/main/Untitled11.ipynb\" target=\"_parent\"><img src=\"https://colab.research.google.com/assets/colab-badge.svg\" alt=\"Open In Colab\"/></a>"
      ]
    },
    {
      "cell_type": "code",
      "execution_count": null,
      "metadata": {
        "colab": {
          "base_uri": "https://localhost:8080/"
        },
        "id": "b_26vGgGAt9W",
        "outputId": "eee7e8ae-9315-4b17-f8ea-5a3f53499f20"
      },
      "outputs": [
        {
          "output_type": "stream",
          "name": "stdout",
          "text": [
            "choose a number5\n",
            "2\n",
            "3\n"
          ]
        },
        {
          "output_type": "execute_result",
          "data": {
            "text/plain": [
              "True"
            ]
          },
          "metadata": {},
          "execution_count": 7
        }
      ],
      "source": [
        "k=int(input(\"choose a number\"))\n",
        "def binary_search(A, l, h, k):\n",
        "    if h >= l:\n",
        "        mid = int(l + (h - l)/2)\n",
        "        print(mid)\n",
        "        if A[mid] == k:\n",
        "            return True\n",
        "        elif A[mid] > k:\n",
        "            return binary_search(A, l, mid-1, k)\n",
        "        else:\n",
        "            return binary_search(A, mid+1, h, k)\n",
        "    else:\n",
        "        return False\n",
        "\n",
        "A=[1,2,3,5,8]\n",
        "h=len(A)-1;\n",
        "binary_search(A, l, h, k)\n"
      ]
    },
    {
      "cell_type": "code",
      "source": [
        "a=int(input(\"choose a: \"))\n",
        "b=int(input(\"choose b: \"))\n",
        "\n",
        "def power(a, b):\n",
        "    r = 1\n",
        "    for i in range(b):\n",
        "        r=r*a\n",
        "    return r\n",
        "\n",
        "\n",
        "print(power(a, b))"
      ],
      "metadata": {
        "colab": {
          "base_uri": "https://localhost:8080/"
        },
        "id": "thEfP8zeBmcl",
        "outputId": "2ec6d330-370a-4e71-b4ea-0ac2b2856bfe"
      },
      "execution_count": null,
      "outputs": [
        {
          "output_type": "stream",
          "name": "stdout",
          "text": [
            "choose a: 3\n",
            "choose b: 4\n",
            "81\n"
          ]
        }
      ]
    },
    {
      "cell_type": "code",
      "source": [
        "def bubbleSort(nlist):\n",
        "    for passnum in range(len(nlist)-1,0,-1):\n",
        "        for i in range(passnum):\n",
        "            if nlist[i]>nlist[i+1]:\n",
        "                temp = nlist[i]\n",
        "                nlist[i] = nlist[i+1]\n",
        "                nlist[i+1] = temp\n",
        "    return nlist\n",
        "\n",
        "nlist = [29,13,22,37,52,49,46,71,56]\n",
        "bubbleSort(nlist)\n"
      ],
      "metadata": {
        "colab": {
          "base_uri": "https://localhost:8080/"
        },
        "id": "xe0JACwnCrLr",
        "outputId": "e4cd5055-0b16-4557-e60e-88dbbc0b21a4"
      },
      "execution_count": null,
      "outputs": [
        {
          "output_type": "execute_result",
          "data": {
            "text/plain": [
              "[13, 22, 29, 37, 46, 49, 52, 56, 71]"
            ]
          },
          "metadata": {},
          "execution_count": 11
        }
      ]
    },
    {
      "cell_type": "code",
      "source": [
        "def mergeSort(myList):\n",
        "    if len(myList) > 1:\n",
        "        mid = len(myList) // 2\n",
        "        left = myList[:mid]\n",
        "        right = myList[mid:]\n",
        "\n",
        "        mergeSort(left)\n",
        "        mergeSort(right)\n",
        "\n",
        "        i = 0\n",
        "        j = 0\n",
        "\n",
        "\n",
        "        k = 0\n",
        "\n",
        "        while i < len(left) and j < len(right):\n",
        "            if left[i] < right[j]:\n",
        "\n",
        "              myList[k] = left[i]\n",
        "\n",
        "              i += 1\n",
        "            else:\n",
        "                myList[k] = right[j]\n",
        "                j += 1\n",
        "\n",
        "            k += 1\n",
        "\n",
        "\n",
        "        while i < len(left):\n",
        "            myList[k] = left[i]\n",
        "            i += 1\n",
        "            k += 1\n",
        "\n",
        "        while j < len(right):\n",
        "            myList[k]=right[j]\n",
        "            j += 1\n",
        "            k += 1\n",
        "\n",
        "myList = [29,13,22,37,52,49,46,71,56]\n",
        "mergeSort(myList)\n",
        "print(myList)"
      ],
      "metadata": {
        "colab": {
          "base_uri": "https://localhost:8080/"
        },
        "id": "P34yey8NCxT9",
        "outputId": "786f1efa-0ff3-40e5-bc26-c76567d3a061"
      },
      "execution_count": null,
      "outputs": [
        {
          "output_type": "stream",
          "name": "stdout",
          "text": [
            "[13, 22, 29, 37, 46, 49, 52, 56, 71]\n"
          ]
        }
      ]
    },
    {
      "cell_type": "code",
      "source": [
        "def partition(array, start, end):\n",
        "    pivot = array[start]\n",
        "    low = start + 1\n",
        "    high = end\n",
        "    while True:\n",
        "\n",
        "        while low <= high and array[high] >= pivot:\n",
        "            high = high - 1\n",
        "\n",
        "        while low <= high and array[low] <= pivot:\n",
        "            low = low + 1\n",
        "\n",
        "        if low <= high:\n",
        "            array[low], array[high] = array[high], array[low]\n",
        "\n",
        "        else:\n",
        "\n",
        "            break\n",
        "\n",
        "    array[start], array[high] = array[high], array[start]\n",
        "\n",
        "    return high\n",
        "def quick_sort(array, start, end):\n",
        "    if start >= end:\n",
        "        return\n",
        "\n",
        "    p = partition(array, start, end)\n",
        "    quick_sort(array, start, p-1)\n",
        "    quick_sort(array, p+1, end)\n",
        "\n",
        "array = [29,13,22,37,52,49,46,71,56]\n",
        "quick_sort(array, 0, len(array) - 1)\n",
        "print(array)"
      ],
      "metadata": {
        "id": "GqfjUF25DAUr",
        "outputId": "be21bedb-8b1d-44c3-9e21-500e38c3a099",
        "colab": {
          "base_uri": "https://localhost:8080/"
        }
      },
      "execution_count": 16,
      "outputs": [
        {
          "output_type": "stream",
          "name": "stdout",
          "text": [
            "[13, 22, 29, 37, 46, 49, 52, 56, 71]\n"
          ]
        }
      ]
    }
  ]
}