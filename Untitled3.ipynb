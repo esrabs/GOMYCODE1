{
  "nbformat": 4,
  "nbformat_minor": 0,
  "metadata": {
    "colab": {
      "provenance": [],
      "authorship_tag": "ABX9TyPwH96OF+yTK0bpHaMVVMHl",
      "include_colab_link": true
    },
    "kernelspec": {
      "name": "python3",
      "display_name": "Python 3"
    },
    "language_info": {
      "name": "python"
    }
  },
  "cells": [
    {
      "cell_type": "markdown",
      "metadata": {
        "id": "view-in-github",
        "colab_type": "text"
      },
      "source": [
        "<a href=\"https://colab.research.google.com/github/esrabs/GOMYCODE1/blob/main/Untitled3.ipynb\" target=\"_parent\"><img src=\"https://colab.research.google.com/assets/colab-badge.svg\" alt=\"Open In Colab\"/></a>"
      ]
    },
    {
      "cell_type": "code",
      "execution_count": 12,
      "metadata": {
        "colab": {
          "base_uri": "https://localhost:8080/"
        },
        "id": "Gsat1eIqiltA",
        "outputId": "c3e031f2-ff2a-4031-cfdc-8a6ec7ef85f2"
      },
      "outputs": [
        {
          "output_type": "stream",
          "name": "stdout",
          "text": [
            "Enter the first number: 6\n",
            "Enter the second number: 0\n",
            "Enter the operator (+, -, *, /): /\n",
            "The result is: Error\n"
          ]
        }
      ],
      "source": [
        "def calculator(x,y):\n",
        "    operator = input(\"Enter the operator (+, -, *, /): \")\n",
        "\n",
        "    if operator == \"+\":\n",
        "        result = x + y\n",
        "    elif operator == \"-\":\n",
        "        result = x - y\n",
        "    elif operator == \"*\":\n",
        "        result = x * y\n",
        "    elif operator == \"/\":\n",
        "        if y != 0:\n",
        "            result = x/ y\n",
        "        else:\n",
        "            result =\"Error\"\n",
        "\n",
        "    else:\n",
        "        result =\"Error\"\n",
        "\n",
        "    return result\n",
        "\n",
        "\n",
        "x= int(input(\"Enter the first number: \"))\n",
        "y= int(input(\"Enter the second number: \"))\n",
        "\n",
        "\n",
        "result = calculator(x, y)\n",
        "print(\"The result is:\", result)"
      ]
    },
    {
      "cell_type": "code",
      "source": [
        "\n"
      ],
      "metadata": {
        "id": "fwGbVn0MuBtf"
      },
      "execution_count": null,
      "outputs": []
    }
  ]
}