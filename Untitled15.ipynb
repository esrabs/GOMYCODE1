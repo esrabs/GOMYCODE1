{
  "nbformat": 4,
  "nbformat_minor": 0,
  "metadata": {
    "colab": {
      "provenance": [],
      "authorship_tag": "ABX9TyPw5VknNHwXs8NeZyBLZ5cW",
      "include_colab_link": true
    },
    "kernelspec": {
      "name": "python3",
      "display_name": "Python 3"
    },
    "language_info": {
      "name": "python"
    }
  },
  "cells": [
    {
      "cell_type": "markdown",
      "metadata": {
        "id": "view-in-github",
        "colab_type": "text"
      },
      "source": [
        "<a href=\"https://colab.research.google.com/github/esrabs/GOMYCODE1/blob/main/Untitled15.ipynb\" target=\"_parent\"><img src=\"https://colab.research.google.com/assets/colab-badge.svg\" alt=\"Open In Colab\"/></a>"
      ]
    },
    {
      "cell_type": "code",
      "execution_count": null,
      "metadata": {
        "id": "L6ULoMYlpWd9"
      },
      "outputs": [],
      "source": [
        "import tkinter as tk\n",
        "from tkinter import messagebox\n",
        "\n",
        "\n",
        "digits = [1, 2, 3, 4, 5, 6, 7, 8, 9]\n",
        "\n",
        "\n",
        "root = tk.Tk()\n",
        "root.title(\"TIC-TAC-TOE\")\n",
        "\n",
        "mark = ''\n",
        "count = 0\n",
        "\n",
        "panels = ['panel'] + digits\n",
        "root.mainloop()"
      ]
    }
  ]
}