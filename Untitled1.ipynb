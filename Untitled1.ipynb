{
  "nbformat": 4,
  "nbformat_minor": 0,
  "metadata": {
    "colab": {
      "provenance": [],
      "authorship_tag": "ABX9TyN8pc+TLgB6LqB6QrGTKMwS",
      "include_colab_link": true
    },
    "kernelspec": {
      "name": "python3",
      "display_name": "Python 3"
    },
    "language_info": {
      "name": "python"
    }
  },
  "cells": [
    {
      "cell_type": "markdown",
      "metadata": {
        "id": "view-in-github",
        "colab_type": "text"
      },
      "source": [
        "<a href=\"https://colab.research.google.com/github/esrabs/GOMYCODE1/blob/main/Untitled1.ipynb\" target=\"_parent\"><img src=\"https://colab.research.google.com/assets/colab-badge.svg\" alt=\"Open In Colab\"/></a>"
      ]
    },
    {
      "cell_type": "code",
      "execution_count": 40,
      "metadata": {
        "colab": {
          "base_uri": "https://localhost:8080/"
        },
        "id": "YRvP54-6nZVe",
        "outputId": "c5f86d8b-b770-4854-ec6b-150d2ae03939"
      },
      "outputs": [
        {
          "output_type": "stream",
          "name": "stdout",
          "text": [
            "Enter your guess: 6\n",
            "Your guess is too low. Guess again.\n",
            "Enter your guess: 60\n",
            "Your guess is too low. Guess again.\n",
            "Enter your guess: 80\n",
            "Your guess is too low. Guess again.\n",
            "Enter your guess: 90\n",
            "Your guess is too high. Guess again.\n",
            "Enter your guess: 88\n",
            "Your guess is too high. Guess again.\n",
            "Enter your guess: 87\n",
            "Your guess is too high. Guess again.\n",
            "Enter your guess: 85\n",
            "Your guess is too high. Guess again.\n",
            "Enter your guess: 54\n",
            "Your guess is too low. Guess again.\n",
            "Enter your guess: 84\n",
            "Your guess is too high. Guess again.\n",
            "Enter your guess: 82\n",
            "Congratulations! You guessed the number correctly!\n"
          ]
        }
      ],
      "source": [
        "import random\n",
        "x = random.randint(1, 100)\n",
        "\n",
        "while True:\n",
        "  y = int(input(\"Enter your guess: \"))\n",
        "\n",
        "  if y < x:\n",
        "        print(\"Your guess is too low. Guess again.\")\n",
        "  elif y > x:\n",
        "        print(\"Your guess is too high. Guess again.\")\n",
        "  else:\n",
        "        print(\"Congratulations! You guessed the number correctly!\")\n",
        "        break"
      ]
    }
  ]
}