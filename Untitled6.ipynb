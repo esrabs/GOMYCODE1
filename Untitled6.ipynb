{
  "nbformat": 4,
  "nbformat_minor": 0,
  "metadata": {
    "colab": {
      "provenance": [],
      "authorship_tag": "ABX9TyN49dg04B1w3TPnHscZIxaz",
      "include_colab_link": true
    },
    "kernelspec": {
      "name": "python3",
      "display_name": "Python 3"
    },
    "language_info": {
      "name": "python"
    }
  },
  "cells": [
    {
      "cell_type": "markdown",
      "metadata": {
        "id": "view-in-github",
        "colab_type": "text"
      },
      "source": [
        "<a href=\"https://colab.research.google.com/github/esrabs/GOMYCODE1/blob/main/Untitled6.ipynb\" target=\"_parent\"><img src=\"https://colab.research.google.com/assets/colab-badge.svg\" alt=\"Open In Colab\"/></a>"
      ]
    },
    {
      "cell_type": "code",
      "execution_count": 8,
      "metadata": {
        "colab": {
          "base_uri": "https://localhost:8080/"
        },
        "id": "dDvUMMJcueU0",
        "outputId": "591b4f80-7248-4b29-8fad-2950e94eec9c"
      },
      "outputs": [
        {
          "output_type": "stream",
          "name": "stdout",
          "text": [
            "        name  score  attempts qualify\n",
            "a  Anastasia   12.5         1     yes\n",
            "b       Dima    9.0         3      no\n",
            "c  Katherine   16.5         2     yes\n",
            "        name  score\n",
            "a  Anastasia   12.5\n",
            "b       Dima    9.0\n",
            "c  Katherine   16.5\n",
            "d      James    NaN\n",
            "e      Emily    9.0\n",
            "f    Michael   20.0\n",
            "g    Matthew   14.5\n",
            "h      Laura    NaN\n",
            "i      Kevin    8.0\n",
            "j      Jonas   19.0\n",
            "        name  score  attempts qualify\n",
            "a  Anastasia   12.5         1     yes\n",
            "b       Dima    9.0         3      no\n",
            "c  Katherine   16.5         2     yes\n",
            "d      James    NaN         3      no\n",
            "e      Emily    9.0         2      no\n",
            "f    Michael   20.0         3     yes\n",
            "g    Matthew   14.5         1     yes\n",
            "h      Laura    NaN         1      no\n",
            "i      Kevin    8.0         2      no\n",
            "j      Jonas   19.0         1     yes\n",
            "k     Suresh   15.5         1     yes\n",
            "        name  score qualify\n",
            "a  Anastasia   12.5     yes\n",
            "b       Dima    9.0      no\n",
            "c  Katherine   16.5     yes\n",
            "d      James    NaN      no\n",
            "e      Emily    9.0      no\n",
            "f    Michael   20.0     yes\n",
            "g    Matthew   14.5     yes\n",
            "h      Laura    NaN      no\n",
            "i      Kevin    8.0      no\n",
            "j      Jonas   19.0     yes\n",
            "        name  score  attempts qualify  Success\n",
            "a  Anastasia   12.5         1     yes        1\n",
            "b       Dima    9.0         3      no        0\n",
            "c  Katherine   16.5         2     yes        1\n",
            "d      James    NaN         3      no        0\n",
            "e      Emily    9.0         2      no        0\n",
            "f    Michael   20.0         3     yes        1\n",
            "g    Matthew   14.5         1     yes        1\n",
            "h      Laura    NaN         1      no        0\n",
            "i      Kevin    8.0         2      no        0\n",
            "j      Jonas   19.0         1     yes        1\n",
            "        name  score  attempts qualify  Success\n",
            "a  Anastasia   12.5         1     yes        1\n",
            "b       Dima    9.0         3      no        0\n",
            "c  Katherine   16.5         2     yes        1\n",
            "d      James    NaN         3      no        0\n",
            "e      Emily    9.0         2      no        0\n",
            "f    Michael   20.0         3     yes        1\n",
            "g    Matthew   14.5         1     yes        1\n",
            "h      Laura    NaN         1      no        0\n",
            "i      Kevin    8.0         2      no        0\n",
            "j      Jonas   19.0         1     yes        1\n"
          ]
        }
      ],
      "source": [
        "from pandas._libs.tslibs.offsets import YearBegin\n",
        "import pandas as pd\n",
        "import numpy as np\n",
        "\n",
        "exam_data = {\n",
        "    'name': ['Anastasia', 'Dima', 'Katherine', 'James', 'Emily', 'Michael', 'Matthew', 'Laura', 'Kevin', 'Jonas'],\n",
        "    'score': [12.5, 9, 16.5, np.nan, 9, 20, 14.5, np.nan, 8, 19],\n",
        "    'attempts': [1, 3, 2, 3, 2, 3, 1, 1, 2, 1],\n",
        "    'qualify': ['yes', 'no', 'yes', 'no', 'no', 'yes', 'yes', 'no', 'no', 'yes']\n",
        "}\n",
        "\n",
        "labels = ['a', 'b', 'c', 'd', 'e', 'f', 'g', 'h', 'i', 'j']\n",
        "df = pd.DataFrame(exam_data, index=labels)\n",
        "\n",
        "print(df.head(3))\n",
        "\n",
        "df = pd.DataFrame(exam_data, index=labels)\n",
        "\n",
        "nameandscoredf = df[['name', 'score']]\n",
        "print(nameandscoredf)\n",
        "\n",
        "\n",
        "x = pd.DataFrame({'name': [\"Suresh\"], 'score': [15.5], 'attempts': [1], 'qualify': [\"yes\"]}, index=['k'])\n",
        "print(pd.concat([df, x]))\n",
        "\n",
        "\n",
        "y = df.drop('attempts', axis=1)\n",
        "print(y)\n",
        "\n",
        "\n",
        "df['Success'] = (df['score'] > 10).astype(int)\n",
        "print(df)\n",
        "\n",
        "\n",
        "df.to_csv('my_data.csv')\n",
        "print(df)"
      ]
    }
  ]
}