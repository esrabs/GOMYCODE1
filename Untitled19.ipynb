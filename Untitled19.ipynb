{
  "nbformat": 4,
  "nbformat_minor": 0,
  "metadata": {
    "colab": {
      "provenance": [],
      "authorship_tag": "ABX9TyM9BWLW1eqpGNe6Uv6xaR3t",
      "include_colab_link": true
    },
    "kernelspec": {
      "name": "python3",
      "display_name": "Python 3"
    },
    "language_info": {
      "name": "python"
    }
  },
  "cells": [
    {
      "cell_type": "markdown",
      "metadata": {
        "id": "view-in-github",
        "colab_type": "text"
      },
      "source": [
        "<a href=\"https://colab.research.google.com/github/esrabs/GOMYCODE1/blob/main/Untitled19.ipynb\" target=\"_parent\"><img src=\"https://colab.research.google.com/assets/colab-badge.svg\" alt=\"Open In Colab\"/></a>"
      ]
    },
    {
      "cell_type": "code",
      "execution_count": null,
      "metadata": {
        "id": "eUaiqDG3n5gM"
      },
      "outputs": [],
      "source": [
        "import tkinter as tk\n",
        "from tkinter import messagebox\n",
        "\n",
        "\n",
        "digits = [1, 2, 3, 4, 5, 6, 7, 8, 9]\n",
        "\n",
        "\n",
        "root = tk.Tk()\n",
        "root.title(\"TIC-TAC-TOE\")\n",
        "\n",
        "\n",
        "mark = ''\n",
        "\n",
        "\n",
        "count = 0\n",
        "\n",
        "panels = ['panel'] + digits\n",
        "\n",
        "\n",
        "\n",
        "def check_winner(player):\n",
        "    for i in range(3):\n",
        "        if buttons[i].cget('text') == buttons[i+3].cget('text') == buttons[i+6].cget('text') == player:\n",
        "            return True\n",
        "        if buttons[i*3].cget('text') == buttons[i*3+1].cget('text') == buttons[i*3+2].cget('text') == player:\n",
        "            return True\n",
        "\n",
        "\n",
        "    if buttons[0].cget('text') == buttons[4].cget('text') == buttons[8].cget('text') == player:\n",
        "        return True\n",
        "    if buttons[2].cget('text') == buttons[4].cget('text') == buttons[6].cget('text') == player:\n",
        "        return True\n",
        "\n",
        "    return False\n",
        "\n",
        "player1_label = tk.Label(root, text=\"Player1 (X)\", font=(\"Helvetica\", 12))\n",
        "player2_label = tk.Label(root, text=\"Player2 (O)\", font=(\"Helvetica\", 12))\n",
        "\n",
        "buttons = []\n",
        "for digit in digits:\n",
        "    button = tk.Button(root, text=\"\", font=(\"Helvetica\", 20), width=5, height=2, command=lambda digit=digit: button_click(digit))\n",
        "    buttons.append(button)\n",
        "\n",
        "player1_label.grid(row=0, column=0, columnspan=3)\n",
        "player2_label.grid(row=1, column=0, columnspan=3)\n",
        "\n",
        "row = 2\n",
        "col = 0\n",
        "for button in buttons:\n",
        "    button.grid(row=row, column=col)\n",
        "    col += 1\n",
        "    if col == 3:\n",
        "        col = 0\n",
        "        row += 1\n",
        " root.mainloop()"
      ]
    }
  ]
}