{
  "nbformat": 4,
  "nbformat_minor": 0,
  "metadata": {
    "colab": {
      "provenance": [],
      "authorship_tag": "ABX9TyNNzkzkOm1xyXS6VSahOg+s",
      "include_colab_link": true
    },
    "kernelspec": {
      "name": "python3",
      "display_name": "Python 3"
    },
    "language_info": {
      "name": "python"
    }
  },
  "cells": [
    {
      "cell_type": "markdown",
      "metadata": {
        "id": "view-in-github",
        "colab_type": "text"
      },
      "source": [
        "<a href=\"https://colab.research.google.com/github/esrabs/GOMYCODE1/blob/main/Untitled5.ipynb\" target=\"_parent\"><img src=\"https://colab.research.google.com/assets/colab-badge.svg\" alt=\"Open In Colab\"/></a>"
      ]
    },
    {
      "cell_type": "code",
      "source": [
        "import numpy as np\n",
        "\n",
        "studentsnumber=int(input(\"what is the students number :\"))\n",
        "subjectsnumber=int(input(\"what is the subjects number\"))\n",
        "\n",
        "def calculategrade(percentage):\n",
        "  if percentage >= 90  :\n",
        "    return 'A+'\n",
        "  elif percentage >= 80 :\n",
        "    return 'A'\n",
        "  elif percentage >= 70 :\n",
        "    return 'B+'\n",
        "  elif percentage >= 60 :\n",
        "    return 'B'\n",
        "  elif percentage >= 50 :\n",
        "    return 'C'\n",
        "  else :\n",
        "    return 'F'\n",
        "\n",
        "\n",
        "\n",
        "marks=np.zeros((studentsnumber,subjectsnumber))\n",
        "\n",
        "for i in range(studentsnumber):\n",
        "  for j in range(subjectsnumber):\n",
        "    marks[i][j]=int(input(f\"Enter the marks of student {i+1} in subject {j+1}: \"))\n",
        "\n",
        "totalmarks = np.zeros(studentsnumber)\n",
        "for i in range(studentsnumber):\n",
        "    totalmarks[i] = sum(marks[i])\n",
        "\n",
        "\n",
        "percentage = (totalmarks / (subjectsnumber * 100)) * 100\n",
        "\n",
        "grades = [calculategrade(p) for p in percentage]\n",
        "\n",
        "\n",
        "def calculategrade(percentage):\n",
        "  if percentage >= 90  :\n",
        "    return 'A+'\n",
        "  elif percentage >= 80 :\n",
        "    return 'A'\n",
        "  elif percentage >= 70 :\n",
        "    return 'B+'\n",
        "  elif percentage >= 60 :\n",
        "    return 'B'\n",
        "  elif percentage >= 50 :\n",
        "    return 'C'\n",
        "  else :\n",
        "    return 'F'\n",
        "\n",
        "\n",
        "print(\"Student\\tTotal Marks\\tPercentage\\tGrade\")\n",
        "for i in range(studentsnumber):\n",
        "    print(f\"{i+1}\\t{totalmarks[i]}\\t\\t{percentage[i]}%\\t\\t{grades[i]}\")\n",
        "\n",
        "\n"
      ],
      "metadata": {
        "colab": {
          "base_uri": "https://localhost:8080/"
        },
        "id": "he08PQ3Iixu1",
        "outputId": "785dc17f-c341-4eb1-a576-6f582dda056d"
      },
      "execution_count": 23,
      "outputs": [
        {
          "output_type": "stream",
          "name": "stdout",
          "text": [
            "what is the students number :2\n",
            "what is the subjects number1\n",
            "Enter the marks of student 1 in subject 1: 5\n",
            "Enter the marks of student 2 in subject 1: 6\n",
            "Student\tTotal Marks\tPercentage\tGrade\n",
            "1\t5.0\t\t5.0%\t\tF\n",
            "2\t6.0\t\t6.0%\t\tF\n"
          ]
        }
      ]
    }
  ]
}