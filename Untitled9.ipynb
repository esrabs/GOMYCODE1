{
  "nbformat": 4,
  "nbformat_minor": 0,
  "metadata": {
    "colab": {
      "provenance": [],
      "authorship_tag": "ABX9TyPZ03ODo0kN26322D9ZXVyz",
      "include_colab_link": true
    },
    "kernelspec": {
      "name": "python3",
      "display_name": "Python 3"
    },
    "language_info": {
      "name": "python"
    }
  },
  "cells": [
    {
      "cell_type": "markdown",
      "metadata": {
        "id": "view-in-github",
        "colab_type": "text"
      },
      "source": [
        "<a href=\"https://colab.research.google.com/github/esrabs/GOMYCODE1/blob/main/Untitled9.ipynb\" target=\"_parent\"><img src=\"https://colab.research.google.com/assets/colab-badge.svg\" alt=\"Open In Colab\"/></a>"
      ]
    },
    {
      "cell_type": "code",
      "execution_count": null,
      "metadata": {
        "id": "XQ_ctkaF2bl8"
      },
      "outputs": [],
      "source": [
        "f = open(\"test.txt\",'r',encoding = 'utf-8')\n",
        "f.read()\n",
        "\n",
        "n=2\n",
        "for line in range (n):\n",
        "       print(line, end = '')\n",
        "\n",
        "for line in range (-n):\n",
        "       print(line, end = '')\n",
        "\n",
        "\n",
        "content = file.read()\n",
        "words = content.split()\n",
        "print(len(words))\n"
      ]
    }
  ]
}